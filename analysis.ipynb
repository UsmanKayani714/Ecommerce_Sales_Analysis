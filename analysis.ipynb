{
 "cells": [
  {
   "cell_type": "code",
   "execution_count": 1,
   "id": "02040206-9f8a-4e8f-88c1-81e4b7b3c29a",
   "metadata": {},
   "outputs": [],
   "source": [
    "import numpy as np  # For numerical operations and handling arrays\n",
    "import pandas as pd  # For data manipulation and analysis (DataFrames)\n",
    "import matplotlib.pyplot as plt  # For plotting static, interactive, and animated visualizations\n",
    "import seaborn as sns  # For advanced data visualization (built on top of matplotlib)"
   ]
  },
  {
   "cell_type": "code",
   "execution_count": null,
   "id": "68a07e7a-db3e-4776-9b2b-4258d0a13132",
   "metadata": {},
   "outputs": [
    {
     "name": "stdout",
     "output_type": "stream",
     "text": [
      "   index             Sku    Style Id  Catalog Category Weight   TP MRP Old  \\\n",
      "0      0    Os206_3141_S  Os206_3141  Moments    Kurta    0.3  538    2178   \n",
      "1      1    Os206_3141_M  Os206_3141  Moments    Kurta    0.3  538    2178   \n",
      "2      2    Os206_3141_L  Os206_3141  Moments    Kurta    0.3  538    2178   \n",
      "3      3   Os206_3141_XL  Os206_3141  Moments    Kurta    0.3  538    2178   \n",
      "4      4  Os206_3141_2XL  Os206_3141  Moments    Kurta    0.3  538    2178   \n",
      "\n",
      "  Final MRP Old Ajio MRP Amazon MRP Amazon FBA MRP Flipkart MRP Limeroad MRP  \\\n",
      "0          2295     2295       2295           2295         2295         2295   \n",
      "1          2295     2295       2295           2295         2295         2295   \n",
      "2          2295     2295       2295           2295         2295         2295   \n",
      "3          2295     2295       2295           2295         2295         2295   \n",
      "4          2295     2295       2295           2295         2295         2295   \n",
      "\n",
      "  Myntra MRP Paytm MRP Snapdeal MRP  \n",
      "0       2295      2295         2295  \n",
      "1       2295      2295         2295  \n",
      "2       2295      2295         2295  \n",
      "3       2295      2295         2295  \n",
      "4       2295      2295         2295  \n"
     ]
    }
   ],
   "source": [
    "filepath = \"/data/summer-products-with-rating-and-performance_2020-08.csv\"\n",
    "df = pd.read_csv(filepath)  # Load CSV data into DataFrame\n",
    "print(df.head())  # Display first 5 rows"
   ]
  },
  {
   "cell_type": "code",
   "execution_count": 13,
   "id": "0f9c72be-61e0-4f27-b25f-f12d2269cb02",
   "metadata": {},
   "outputs": [
    {
     "ename": "KeyError",
     "evalue": "'retail_price'",
     "output_type": "error",
     "traceback": [
      "\u001b[1;31m---------------------------------------------------------------------------\u001b[0m",
      "\u001b[1;31mKeyError\u001b[0m                                  Traceback (most recent call last)",
      "File \u001b[1;32m~\\AppData\\Local\\Packages\\PythonSoftwareFoundation.Python.3.11_qbz5n2kfra8p0\\LocalCache\\local-packages\\Python311\\site-packages\\pandas\\core\\indexes\\base.py:3791\u001b[0m, in \u001b[0;36mIndex.get_loc\u001b[1;34m(self, key)\u001b[0m\n\u001b[0;32m   3790\u001b[0m \u001b[38;5;28;01mtry\u001b[39;00m:\n\u001b[1;32m-> 3791\u001b[0m     \u001b[38;5;28;01mreturn\u001b[39;00m \u001b[38;5;28;43mself\u001b[39;49m\u001b[38;5;241;43m.\u001b[39;49m\u001b[43m_engine\u001b[49m\u001b[38;5;241;43m.\u001b[39;49m\u001b[43mget_loc\u001b[49m\u001b[43m(\u001b[49m\u001b[43mcasted_key\u001b[49m\u001b[43m)\u001b[49m\n\u001b[0;32m   3792\u001b[0m \u001b[38;5;28;01mexcept\u001b[39;00m \u001b[38;5;167;01mKeyError\u001b[39;00m \u001b[38;5;28;01mas\u001b[39;00m err:\n",
      "File \u001b[1;32mindex.pyx:152\u001b[0m, in \u001b[0;36mpandas._libs.index.IndexEngine.get_loc\u001b[1;34m()\u001b[0m\n",
      "File \u001b[1;32mindex.pyx:181\u001b[0m, in \u001b[0;36mpandas._libs.index.IndexEngine.get_loc\u001b[1;34m()\u001b[0m\n",
      "File \u001b[1;32mpandas\\_libs\\hashtable_class_helper.pxi:7080\u001b[0m, in \u001b[0;36mpandas._libs.hashtable.PyObjectHashTable.get_item\u001b[1;34m()\u001b[0m\n",
      "File \u001b[1;32mpandas\\_libs\\hashtable_class_helper.pxi:7088\u001b[0m, in \u001b[0;36mpandas._libs.hashtable.PyObjectHashTable.get_item\u001b[1;34m()\u001b[0m\n",
      "\u001b[1;31mKeyError\u001b[0m: 'retail_price'",
      "\nThe above exception was the direct cause of the following exception:\n",
      "\u001b[1;31mKeyError\u001b[0m                                  Traceback (most recent call last)",
      "Cell \u001b[1;32mIn[13], line 1\u001b[0m\n\u001b[1;32m----> 1\u001b[0m \u001b[38;5;28mprint\u001b[39m(\u001b[43mdf\u001b[49m\u001b[43m[\u001b[49m\u001b[38;5;124;43m\"\u001b[39;49m\u001b[38;5;124;43mretail_price\u001b[39;49m\u001b[38;5;124;43m\"\u001b[39;49m\u001b[43m]\u001b[49m\u001b[38;5;241m.\u001b[39mdtype)  \u001b[38;5;66;03m# Print the data type of the 'retail_price' column\u001b[39;00m\n\u001b[0;32m      2\u001b[0m \u001b[38;5;28mprint\u001b[39m(df[\u001b[38;5;124m\"\u001b[39m\u001b[38;5;124mretail_price\u001b[39m\u001b[38;5;124m\"\u001b[39m]\u001b[38;5;241m.\u001b[39munique()[:\u001b[38;5;241m20\u001b[39m])  \u001b[38;5;66;03m# Print the first 20 unique values in the 'retail_price' column\u001b[39;00m\n\u001b[0;32m      3\u001b[0m \u001b[38;5;28mprint\u001b[39m(df[\u001b[38;5;124m\"\u001b[39m\u001b[38;5;124mretail_price\u001b[39m\u001b[38;5;124m\"\u001b[39m])  \u001b[38;5;66;03m# Print all values in the 'retail_price' column\u001b[39;00m\n",
      "File \u001b[1;32m~\\AppData\\Local\\Packages\\PythonSoftwareFoundation.Python.3.11_qbz5n2kfra8p0\\LocalCache\\local-packages\\Python311\\site-packages\\pandas\\core\\frame.py:3893\u001b[0m, in \u001b[0;36mDataFrame.__getitem__\u001b[1;34m(self, key)\u001b[0m\n\u001b[0;32m   3891\u001b[0m \u001b[38;5;28;01mif\u001b[39;00m \u001b[38;5;28mself\u001b[39m\u001b[38;5;241m.\u001b[39mcolumns\u001b[38;5;241m.\u001b[39mnlevels \u001b[38;5;241m>\u001b[39m \u001b[38;5;241m1\u001b[39m:\n\u001b[0;32m   3892\u001b[0m     \u001b[38;5;28;01mreturn\u001b[39;00m \u001b[38;5;28mself\u001b[39m\u001b[38;5;241m.\u001b[39m_getitem_multilevel(key)\n\u001b[1;32m-> 3893\u001b[0m indexer \u001b[38;5;241m=\u001b[39m \u001b[38;5;28;43mself\u001b[39;49m\u001b[38;5;241;43m.\u001b[39;49m\u001b[43mcolumns\u001b[49m\u001b[38;5;241;43m.\u001b[39;49m\u001b[43mget_loc\u001b[49m\u001b[43m(\u001b[49m\u001b[43mkey\u001b[49m\u001b[43m)\u001b[49m\n\u001b[0;32m   3894\u001b[0m \u001b[38;5;28;01mif\u001b[39;00m is_integer(indexer):\n\u001b[0;32m   3895\u001b[0m     indexer \u001b[38;5;241m=\u001b[39m [indexer]\n",
      "File \u001b[1;32m~\\AppData\\Local\\Packages\\PythonSoftwareFoundation.Python.3.11_qbz5n2kfra8p0\\LocalCache\\local-packages\\Python311\\site-packages\\pandas\\core\\indexes\\base.py:3798\u001b[0m, in \u001b[0;36mIndex.get_loc\u001b[1;34m(self, key)\u001b[0m\n\u001b[0;32m   3793\u001b[0m     \u001b[38;5;28;01mif\u001b[39;00m \u001b[38;5;28misinstance\u001b[39m(casted_key, \u001b[38;5;28mslice\u001b[39m) \u001b[38;5;129;01mor\u001b[39;00m (\n\u001b[0;32m   3794\u001b[0m         \u001b[38;5;28misinstance\u001b[39m(casted_key, abc\u001b[38;5;241m.\u001b[39mIterable)\n\u001b[0;32m   3795\u001b[0m         \u001b[38;5;129;01mand\u001b[39;00m \u001b[38;5;28many\u001b[39m(\u001b[38;5;28misinstance\u001b[39m(x, \u001b[38;5;28mslice\u001b[39m) \u001b[38;5;28;01mfor\u001b[39;00m x \u001b[38;5;129;01min\u001b[39;00m casted_key)\n\u001b[0;32m   3796\u001b[0m     ):\n\u001b[0;32m   3797\u001b[0m         \u001b[38;5;28;01mraise\u001b[39;00m InvalidIndexError(key)\n\u001b[1;32m-> 3798\u001b[0m     \u001b[38;5;28;01mraise\u001b[39;00m \u001b[38;5;167;01mKeyError\u001b[39;00m(key) \u001b[38;5;28;01mfrom\u001b[39;00m\u001b[38;5;250m \u001b[39m\u001b[38;5;21;01merr\u001b[39;00m\n\u001b[0;32m   3799\u001b[0m \u001b[38;5;28;01mexcept\u001b[39;00m \u001b[38;5;167;01mTypeError\u001b[39;00m:\n\u001b[0;32m   3800\u001b[0m     \u001b[38;5;66;03m# If we have a listlike key, _check_indexing_error will raise\u001b[39;00m\n\u001b[0;32m   3801\u001b[0m     \u001b[38;5;66;03m#  InvalidIndexError. Otherwise we fall through and re-raise\u001b[39;00m\n\u001b[0;32m   3802\u001b[0m     \u001b[38;5;66;03m#  the TypeError.\u001b[39;00m\n\u001b[0;32m   3803\u001b[0m     \u001b[38;5;28mself\u001b[39m\u001b[38;5;241m.\u001b[39m_check_indexing_error(key)\n",
      "\u001b[1;31mKeyError\u001b[0m: 'retail_price'"
     ]
    }
   ],
   "source": [
    "print(df[\"retail_price\"].dtype)  # Print the data type of the 'retail_price' column\n",
    "print(df[\"retail_price\"].unique()[:20])  # Print the first 20 unique values in the 'retail_price' column\n",
    "print(df[\"retail_price\"])  # Print all values in the 'retail_price' column"
   ]
  },
  {
   "cell_type": "code",
   "execution_count": null,
   "id": "a9950201-e07c-490d-96e7-0c1be609b1b0",
   "metadata": {},
   "outputs": [],
   "source": [
    "print(df.isnull().sum())  # Print the count of missing values in each column"
   ]
  },
  {
   "cell_type": "code",
   "execution_count": null,
   "id": "9f41076f-446e-4879-8ade-436b458a76fd",
   "metadata": {},
   "outputs": [],
   "source": [
    "print(df.columns)  # Print the list of column names in Dataset"
   ]
  },
  {
   "cell_type": "code",
   "execution_count": null,
   "id": "49142814-dca5-4fd6-b5a1-08350e9bf2b5",
   "metadata": {},
   "outputs": [],
   "source": [
    "# Fill missing values in 'retail_price' with the median\n",
    "df[\"retail_price\"] = df[\"retail_price\"].fillna(df[\"retail_price\"].median())\n",
    "# Fill missing values in 'price' with the median\n",
    "df[\"price\"] = df[\"price\"].fillna(df[\"price\"].median())\n",
    "# Fill missing values in 'crawl_month' with 'UNKNOWN'\n",
    "df[\"crawl_month\"] = df[\"crawl_month\"].fillna(\"UNKNOWN\") "
   ]
  },
  {
   "cell_type": "code",
   "execution_count": null,
   "id": "eee9125b-f8de-4c4f-934b-368206ecfd0d",
   "metadata": {},
   "outputs": [],
   "source": [
    "print(df[\"crawl_month\"].dtype)  # Print the data type of the 'crawl_month' column\n",
    "print(df[\"units_sold\"].dtype)  # Print the data type of the 'units_sold' column"
   ]
  },
  {
   "cell_type": "code",
   "execution_count": null,
   "id": "b65b3f67-ce59-4477-8bdd-50bb82627004",
   "metadata": {},
   "outputs": [],
   "source": [
    "print(df.head(10))  # Print the first 10 rows of the Dataset"
   ]
  },
  {
   "cell_type": "code",
   "execution_count": null,
   "id": "aae0000a-9a34-40f9-8573-a1a127a2127e",
   "metadata": {},
   "outputs": [],
   "source": [
    "print(df.dtypes)  # Print the data type of each column in the Dataset"
   ]
  },
  {
   "cell_type": "code",
   "execution_count": null,
   "id": "90e625d1-29c0-4db9-8c83-7d0ede6b826b",
   "metadata": {},
   "outputs": [],
   "source": [
    "# Create bins for 'retail_price' using quantiles\n",
    "df[\"retail_price_bin\"] = pd.qcut(df[\"retail_price\"], q = 10)\n",
    "# Group by 'retail_price_bin' and sum 'units_sold'\n",
    "sales_grouped = df.groupby(\"retail_price_bin\", observed=True)[\"units_sold\"].sum()  \n",
    "plt.figure(figsize = (12, 5))  # Set the figure size for the plot\n",
    "# Plot the data with markers and line\n",
    "plt.plot(sales_grouped.index.astype(str), sales_grouped.values, marker = 'o', linestyle = '-', color = 'b')\n",
    "plt.xticks(rotation=45)  # Rotate x-axis labels for better readability\n",
    "plt.xlabel(\"Retail_Price\")  # Set the x-axis label\n",
    "plt.ylabel(\"Units Sold\")  # Set the y-axis label\n",
    "plt.title(\"Retail Price and Units Sold Plot\")  # Set the title of the plot\n",
    "plt.savefig(\"retail_price_vs_units_sold.png\", dpi=300, bbox_inches=\"tight\") # Saves as PNG with high resolution\n",
    "plt.show()  # Display the plot"
   ]
  },
  {
   "cell_type": "code",
   "execution_count": null,
   "id": "6a5def03-d4c5-4f11-9335-0c424ca85ce9",
   "metadata": {},
   "outputs": [],
   "source": [
    "# Create bins for 'retail_price' using equal-width bins\n",
    "df[\"price_bin\"] = pd.cut(df[\"retail_price\"], bins=10)  \n",
    "plt.figure(figsize=(15, 8))  # Set the figure size for the plot\n",
    "# Create a bar plot with sum of 'price' grouped by 'price_bin'\n",
    "sns.barplot(x=df[\"price_bin\"], y=df[\"price\"], estimator=np.sum, palette=\"coolwarm\", hue=\"retail_price\", data=df)  \n",
    "plt.xticks(rotation=45)  # Rotate x-axis labels for better readability\n",
    "plt.xlabel(\"retail_price bins\")  # Set the x-axis label\n",
    "plt.ylabel(\"price\")  # Set the y-axis label\n",
    "plt.title(\"total price vs. retail price bins\")  # Set the title of the plot\n",
    "plt.savefig(\"total_price_vs_retail_price_bins.png\", dpi=300, bbox_inches=\"tight\") # Saves as PNG with high resolution\n",
    "plt.show()  # Display the plot"
   ]
  },
  {
   "cell_type": "code",
   "execution_count": null,
   "id": "1037fc59-4bdd-4fc5-bbd1-a707a681ad09",
   "metadata": {
    "scrolled": true
   },
   "outputs": [],
   "source": [
    "# Select only numeric columns\n",
    "df_numeric = df.select_dtypes(include=[np.number])  # Extract numeric columns from the DataFrame\n",
    "\n",
    "# Correlation Matrix (filtered for correlations > 0.5)\n",
    "corr_matrix = df_numeric.corr().abs()  # Compute the absolute value of the correlation matrix\n",
    "# Filter correlations greater than 0.5 and unstack the matrix\n",
    "filtered_corr = corr_matrix[corr_matrix > 0.5].stack().reset_index()  \n",
    "# Remove self-correlations (same column pairs)\n",
    "filtered_corr = filtered_corr[filtered_corr['level_0'] != filtered_corr['level_1']]  \n",
    "\n",
    "plt.figure(figsize=(20, 10))  # Set the figure size for the heatmap\n",
    "# Create a heatmap of the correlation matrix with annotations\n",
    "sns.heatmap(corr_matrix, annot=True, cmap=\"coolwarm\", linewidths=0.5)  \n",
    "plt.title(\"Filtered Correlation Matrix (|corr| > 0.5)\")  # Set the title of the heatmap\n",
    "plt.savefig(\"correlation_heatmap.png\", dpi=300, bbox_inches=\"tight\") # Saves as PNG with high resolution\n",
    "plt.show()  # Display the heatmap"
   ]
  },
  {
   "cell_type": "code",
   "execution_count": null,
   "id": "0f98a6cb-da70-4f34-9bae-d1a1ac98114f",
   "metadata": {},
   "outputs": [],
   "source": [
    "# Group by 'product_color', sum 'units_sold', sort by descending order, and select top 10\n",
    "top_products = df.groupby(\"product_color\")[\"units_sold\"].sum().sort_values(ascending = False).head(10)  \n",
    "print(top_products)  # Print the top 10 products by 'units_sold'"
   ]
  },
  {
   "cell_type": "code",
   "execution_count": null,
   "id": "bc5350d7-c926-4f1e-b58a-8760455cf50a",
   "metadata": {},
   "outputs": [],
   "source": [
    "plt.figure(figsize = (12, 8))  # Set the figure size for the plot\n",
    "# Create a horizontal bar plot for top products by color\n",
    "sns.barplot(x=top_products.values, y=top_products.index, palette=\"viridis\", hue=top_products.index, dodge=False)  \n",
    "plt.xlabel(\"Total Units Sold\")  # Set the x-axis label\n",
    "plt.ylabel(\"Product Color\")  # Set the y-axis label\n",
    "plt.title(\"Top 10 best selling Product Color\")  # Set the title of the plot\n",
    "plt.savefig(\"top_10_best_selling_product_colors.png\", dpi=300, bbox_inches=\"tight\") # Saves as PNG with high resolution\n",
    "plt.show()  # Display the plot"
   ]
  },
  {
   "cell_type": "code",
   "execution_count": null,
   "id": "a75a836b-7150-448e-a74c-dc4c5a252a51",
   "metadata": {},
   "outputs": [],
   "source": [
    "# Group by 'product_color', sum 'units_sold', sort by ascending order, and select bottom 10\n",
    "worst_products = df.groupby(\"product_color\")[\"units_sold\"].sum().sort_values(ascending = True).head(10)  \n",
    "print(worst_products)  # Print the worst 10 products by 'units_sold'"
   ]
  },
  {
   "cell_type": "code",
   "execution_count": null,
   "id": "45082cb9-6594-4727-b497-6766a2ef7552",
   "metadata": {},
   "outputs": [],
   "source": [
    "plt.figure(figsize = (12, 8))  # Set the figure size for the plot\n",
    "# Create a horizontal bar plot for the worst products by color\n",
    "sns.barplot(x=worst_products.values, y=worst_products.index, palette=\"coolwarm\", hue=worst_products.index, dodge=False) \n",
    "plt.xlabel(\"Total Units Sold\")  # Set the x-axis label\n",
    "plt.ylabel(\"Product Color\")  # Set the y-axis label\n",
    "plt.title(\"Bottom 10 worst selling Product Color\")  # Set the title of the plot\n",
    "plt.savefig(\"bottom_10_worst_selling_product_colors.png\", dpi=300, bbox_inches=\"tight\") # Saves as PNG with high resolution\n",
    "plt.show()  # Display the plot"
   ]
  },
  {
   "cell_type": "code",
   "execution_count": null,
   "id": "4c7a4687-9004-4115-b3a1-0591e9937322",
   "metadata": {},
   "outputs": [],
   "source": [
    "# Group by 'product_color', sum 'rating_five_count', sort by descending order, and select top 10\n",
    "best_ratings = df.groupby(\"product_color\")[\"rating_five_count\"].sum().sort_values(ascending = False).head(10)  \n",
    "print(best_ratings)  # Print the top 10 products by 'rating_five_count'"
   ]
  },
  {
   "cell_type": "code",
   "execution_count": null,
   "id": "4fa96285-d254-457c-beb7-52f75aacf665",
   "metadata": {},
   "outputs": [],
   "source": [
    "plt.figure(figsize = (12, 8))  # Set the figure size for the plot\n",
    "# Create a horizontal bar plot for the top-rated products by color\n",
    "plt.xlabel(\"Best Ratings\")  # Set the x-axis label\n",
    "sns.barplot(x=best_ratings.values, y=best_ratings.index, palette=\"coolwarm\", hue=best_ratings.index, dodge=False)  \n",
    "plt.ylabel(\"Product Color\")  # Set the y-axis label\n",
    "plt.title(\"Top 10 best rated Product Color\")  # Set the title of the plot\n",
    "plt.savefig(\"top_10_best_rated_product_colors.png\", dpi=300, bbox_inches=\"tight\") # Saves as PNG with high resolution\n",
    "plt.show()  # Display the plot"
   ]
  },
  {
   "cell_type": "code",
   "execution_count": null,
   "id": "86ce78ec-59a2-43de-8d8f-05c38ef9a5c0",
   "metadata": {},
   "outputs": [],
   "source": [
    "print(df[\"crawl_month\"])  # Print the values in the 'crawl_month' column"
   ]
  },
  {
   "cell_type": "code",
   "execution_count": null,
   "id": "0c8f9289-0175-473c-80d8-c015ef44e2ea",
   "metadata": {},
   "outputs": [],
   "source": [
    "# Convert 'crawl_month' to datetime format (year-month)\n",
    "df[\"crawl_month\"] = pd.to_datetime(df[\"crawl_month\"], format=\"%Y-%m\")  \n",
    "# Print the data type of the 'crawl_month' column after conversion\n",
    "print(df[\"crawl_month\"].dtype)  "
   ]
  },
  {
   "cell_type": "code",
   "execution_count": null,
   "id": "06e37876-35db-464f-bc81-b4de4378283e",
   "metadata": {},
   "outputs": [],
   "source": [
    "# Extract the year from 'crawl_month' and create a new 'year' column\n",
    "df[\"year\"] = df[\"crawl_month\"].dt.year\n",
    "# Extract the month from 'crawl_month' and create a new 'month' column\n",
    "df[\"month\"] = df[\"crawl_month\"].dt.month\n",
    "# Print the first 5 rows of 'crawl_month', 'year', and 'month' columns\n",
    "print(df[[\"crawl_month\", \"year\", \"month\"]].head())  "
   ]
  },
  {
   "cell_type": "code",
   "execution_count": null,
   "id": "a8f676da-0420-49c8-8bde-a8aa48a24c69",
   "metadata": {},
   "outputs": [],
   "source": [
    "#Print the number of unique values in the 'crawl_month' column\n",
    "print(df[\"crawl_month\"].nunique())  # if 1, all rows have the same month\n",
    "# Print the unique values in the 'crawl_month' column\n",
    "print(df[\"crawl_month\"].unique())  "
   ]
  },
  {
   "cell_type": "code",
   "execution_count": null,
   "id": "cda711d5-e10d-4586-b4c0-4a975fc1d2b6",
   "metadata": {},
   "outputs": [],
   "source": [
    "# Calculate the 25th percentile (Q1) of the 'retail_price' column\n",
    "Q1 = df[\"retail_price\"].quantile(0.25)  \n",
    "# Calculate the 75th percentile (Q3) of the 'retail_price' column\n",
    "Q3 = df[\"retail_price\"].quantile(0.75)\n",
    "# Calculate the Interquartile Range (IQR) by subtracting Q1 from Q3\n",
    "IQR = Q3 - Q1  \n",
    "# Remove outliers in 'retail_price' based on the IQR method\n",
    "df_clean = df[~((df[\"retail_price\"] < (Q1 - 1.5 * IQR)) | (df[\"retail_price\"] > (Q3 + 1.5 * IQR)))]  "
   ]
  },
  {
   "cell_type": "code",
   "execution_count": null,
   "id": "8d357c52-1d09-4ad2-8918-bfa98a7de993",
   "metadata": {},
   "outputs": [],
   "source": [
    "sns.scatterplot(x=\"retail_price\", y=\"units_sold\", data=df)  # Create a scatter plot of 'retail_price' vs 'units_sold'\n",
    "plt.savefig(\"retail_price_vs_units_sold_scatter_plot.png\", dpi=300, bbox_inches=\"tight\")"
   ]
  },
  {
   "cell_type": "code",
   "execution_count": null,
   "id": "2a325fec-e2a6-4871-b98e-767972f093da",
   "metadata": {},
   "outputs": [],
   "source": [
    "plt.figure(figsize=(15, 8))  # Set the figure size for the box plot\n",
    " # Create a box plot of 'retail_price' grouped by 'product_color'\n",
    "sns.boxplot(x=\"product_color\", y=\"retail_price\", data=df) \n",
    "plt.xticks(rotation=45)  # Rotate x-axis labels for better readability\n",
    "plt.title(\"Retail Price Distribution by Product Color\")  # Set the title of the plot\n",
    "plt.savefig(\"retail_price_distribution_by_product_color.png\", dpi=300, bbox_inches=\"tight\")"
   ]
  },
  {
   "cell_type": "code",
   "execution_count": null,
   "id": "de0d79f8-e4ca-495c-b3ab-7ad92d94ff86",
   "metadata": {},
   "outputs": [],
   "source": [
    "# Calculate the discount percentage based on 'retail_price' and 'price'\n",
    "df[\"discount_percentage\"] = (df[\"retail_price\"] - df[\"price\"]) / df[\"retail_price\"] * 100  \n",
    "print(df[\"discount_percentage\"])  # Print the 'discount_percentage' column"
   ]
  },
  {
   "cell_type": "code",
   "execution_count": null,
   "id": "2a4b83d5-2e69-4298-b4c2-6afbed0db8d7",
   "metadata": {},
   "outputs": [],
   "source": [
    " # Group by 'rating_five_count' and calculate the mean 'units_sold', then select the top 10\n",
    "sales_by_rating = df.groupby(\"rating_five_count\")[\"units_sold\"].mean().head(10) \n",
    "# Create a bar plot of average units sold by five-star rating count\n",
    "sales_by_rating.plot(kind=\"bar\", title=\"Average Units Sold by Five-Star Rating Count\")  \n",
    "plt.savefig(\"average_units_sold_by_rating.png\", dpi=300, bbox_inches=\"tight\")"
   ]
  },
  {
   "cell_type": "code",
   "execution_count": null,
   "id": "cf928edd-8569-4f4f-9bdd-53fd7df5ff7d",
   "metadata": {},
   "outputs": [],
   "source": [
    "# Calculate the correlation between 'price' and 'units_sold'\n",
    "corr = df[\"price\"].corr(df[\"units_sold\"])  \n",
    "print(f\"Correlation between price and units sold: {corr:.2f}\")  # Print the correlation value rounded to 2 decimal places"
   ]
  },
  {
   "cell_type": "code",
   "execution_count": null,
   "id": "292d9b8f-f729-4db2-b8ff-90134e44a7de",
   "metadata": {},
   "outputs": [],
   "source": [
    "# Group by 'product_color' and generate descriptive statistics for 'units_sold'\n",
    "df.groupby(\"product_color\")[\"units_sold\"].describe()  "
   ]
  },
  {
   "cell_type": "code",
   "execution_count": null,
   "id": "0e83bce4-3487-4be0-9c2e-65cbc8511fc7",
   "metadata": {},
   "outputs": [],
   "source": [
    "# Create synthetic months\n",
    "months = pd.date_range(\"2020-06\", \"2020-08\", freq=\"ME\").strftime(\"%Y-%m\").tolist()\n",
    "\n",
    "# Randomly assign months to rows\n",
    "df[\"crawl_month\"] = np.random.choice(months, size=len(df))\n"
   ]
  },
  {
   "cell_type": "code",
   "execution_count": null,
   "id": "96a1618c-8929-4f88-81ab-a17b9b97a28d",
   "metadata": {},
   "outputs": [],
   "source": [
    "# Group by crawl_month for monthly sales analysis (once multiple months exist)\n",
    "monthly_sales = df.groupby(\"crawl_month\")[\"units_sold\"].sum()\n",
    "monthly_sales.plot(kind=\"bar\", figsize=(12, 6), title=\"Units Sold by Month\")\n",
    "plt.xlabel(\"Month\")\n",
    "plt.ylabel(\"Units Sold\")\n",
    "plt.savefig(\"monthly_sales_units_sold.png\", dpi=300, bbox_inches=\"tight\")\n",
    "plt.show()"
   ]
  },
  {
   "cell_type": "code",
   "execution_count": null,
   "id": "cfc42997-c0a8-467d-b58d-a7f9b9ed62cd",
   "metadata": {},
   "outputs": [],
   "source": [
    "# Extract the month from 'crawl_month' and create a new 'month' column\n",
    "df[\"month\"] = pd.to_datetime(df[\"crawl_month\"]).dt.month  \n",
    "# Extract the year from 'crawl_month' and create a new 'year' column\n",
    "df[\"year\"] = pd.to_datetime(df[\"crawl_month\"]).dt.year  "
   ]
  }
 ],
 "metadata": {
  "kernelspec": {
   "display_name": "Python 3",
   "language": "python",
   "name": "python3"
  },
  "language_info": {
   "codemirror_mode": {
    "name": "ipython",
    "version": 3
   },
   "file_extension": ".py",
   "mimetype": "text/x-python",
   "name": "python",
   "nbconvert_exporter": "python",
   "pygments_lexer": "ipython3",
   "version": "3.11.9"
  }
 },
 "nbformat": 4,
 "nbformat_minor": 5
}
